{
 "cells": [
  {
   "cell_type": "markdown",
   "source": [
    "## Lesson 5"
   ],
   "metadata": {
    "collapsed": false
   }
  },
  {
   "cell_type": "code",
   "execution_count": 59,
   "outputs": [],
   "source": [
    "import warnings\n",
    "\n",
    "import matplotlib.pyplot as plt\n",
    "import numpy as np\n",
    "from scipy.stats import t, probplot\n",
    "import statsmodels.graphics.gofplots as sm\n",
    "\n",
    "warnings.filterwarnings(\"ignore\")\n",
    "%matplotlib inline\n",
    "plt.style.use('seaborn-white')"
   ],
   "metadata": {
    "collapsed": false,
    "pycharm": {
     "name": "#%%\n"
    }
   }
  },
  {
   "cell_type": "markdown",
   "source": [
    "#### 5.4.3 - Example\n",
    "\n",
    "The mean length of certain construction lumber is supposed to be 8.5 feet. A random sample of 81 pieces of such lumber gives a sample mean of 8.3 feet and a sample standard deviation of 1.2 feet.\n",
    "1. What is the 95% CI for \"mean length of such lumber?\n",
    "2. What is the 99% CI for \"mean length of such lumber?"
   ],
   "metadata": {
    "collapsed": false,
    "pycharm": {
     "name": "#%% md\n"
    }
   }
  },
  {
   "cell_type": "code",
   "execution_count": 19,
   "outputs": [
    {
     "name": "stdout",
     "output_type": "stream",
     "text": [
      "95.0% CI for \"mean length of such lumber\" is (8.03465821052955, 8.565341789470452)\n",
      "99.0% CI for \"mean length of such lumber\" is (7.9481745875012875, 8.651825412498715)\n"
     ]
    }
   ],
   "source": [
    "mu = 8.5\n",
    "x_bar = 8.3\n",
    "n = 81\n",
    "sd = 1.2\n",
    "df = n-1\n",
    "\n",
    "# calculate confidence interval\n",
    "for alpha in [0.05, 0.01]:\n",
    "      CI = (x_bar - t.isf(alpha/2, df) * (sd/np.sqrt(n)), x_bar + t.isf(alpha/2, df) * (sd/np.sqrt(n)))\n",
    "      print(f'{(1-alpha) * 100}% CI for \"mean length of such lumber\" is '\n",
    "            f'{CI}')"
   ],
   "metadata": {
    "collapsed": false,
    "pycharm": {
     "name": "#%%\n"
    }
   }
  },
  {
   "cell_type": "markdown",
   "source": [
    "#### 5.4.4 - Checking Normality\n",
    "\n",
    "It is very time consuming to find rattlesnakes and nerve racking to measure them (for obvious reasons). A scientist randomly finds 12 snakes from the central Pennsylvania area and measures their length. The following twelve measurements in inches are obtained:\n",
    "- 40.2, 43.1, 45.5, 44.5, 39.5, 38.5, 40.2, 41.0, 41.6, 43.1, 44.9, 42.8\n",
    "\n",
    "Using the above data, find a 90% confidence interval for the mean length of rattlesnakes in the central Pennsylvania area."
   ],
   "metadata": {
    "collapsed": false,
    "pycharm": {
     "name": "#%% md\n"
    }
   }
  },
  {
   "cell_type": "code",
   "execution_count": 61,
   "outputs": [
    {
     "data": {
      "text/plain": "<Figure size 432x288 with 1 Axes>",
      "image/png": "[encoded data removed]"
     },
     "metadata": {},
     "output_type": "display_data"
    }
   ],
   "source": [
    "# normal probability plot\n",
    "X = np.array([40.2, 43.1, 45.5, 44.5, 39.5, 38.5, 40.2, 41.0, 41.6, 43.1, 44.9, 42.8])\n",
    "\n",
    "fig = sm.ProbPlot(X).qqplot(line='s')"
   ],
   "metadata": {
    "collapsed": false,
    "pycharm": {
     "name": "#%%\n"
    }
   }
  },
  {
   "cell_type": "markdown",
   "source": [
    "#### 5.4.5 - Sample Size Computation\n",
    "\n",
    "$$\n",
    "E=t_{\\alpha/2}\\d frac{s}{\\sqrt{n}}\n",
    "$$"
   ],
   "metadata": {
    "collapsed": false,
    "pycharm": {
     "name": "#%% md\n"
    }
   }
  }
 ],
 "metadata": {
  "kernelspec": {
   "display_name": "Python 3",
   "language": "python",
   "name": "python3"
  },
  "language_info": {
   "codemirror_mode": {
    "name": "ipython",
    "version": 2
   },
   "file_extension": ".py",
   "mimetype": "text/x-python",
   "name": "python",
   "nbconvert_exporter": "python",
   "pygments_lexer": "ipython2",
   "version": "2.7.6"
  }
 },
 "nbformat": 4,
 "nbformat_minor": 0
}